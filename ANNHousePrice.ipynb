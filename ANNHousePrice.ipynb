{
  "nbformat": 4,
  "nbformat_minor": 0,
  "metadata": {
    "colab": {
      "provenance": []
    },
    "kernelspec": {
      "name": "python3",
      "display_name": "Python 3"
    },
    "language_info": {
      "name": "python"
    },
    "accelerator": "GPU",
    "gpuClass": "standard"
  },
  "cells": [
    {
      "cell_type": "code",
      "execution_count": 1,
      "metadata": {
        "id": "9Ke8f3FU01Hi"
      },
      "outputs": [],
      "source": [
        "import pandas as pd\n",
        "import numpy as np\n",
        "from tensorflow.keras.models import Sequential\n",
        "from tensorflow.keras.layers import Dense\n",
        "from sklearn.preprocessing import MinMaxScaler"
      ]
    },
    {
      "cell_type": "code",
      "source": [
        "df = pd.read_csv('/content/housepricedata.csv')\n",
        "df.head(5)\n",
        "#target variable is AboveMedianPrice which is binary"
      ],
      "metadata": {
        "colab": {
          "base_uri": "https://localhost:8080/",
          "height": 206
        },
        "id": "bUCiMUYO6XNK",
        "outputId": "93dacbd1-e3fc-4515-83eb-95ef9657aa99"
      },
      "execution_count": 2,
      "outputs": [
        {
          "output_type": "execute_result",
          "data": {
            "text/plain": [
              "   LotArea  OverallQual  OverallCond  TotalBsmtSF  FullBath  HalfBath  \\\n",
              "0     8450            7            5          856         2         1   \n",
              "1     9600            6            8         1262         2         0   \n",
              "2    11250            7            5          920         2         1   \n",
              "3     9550            7            5          756         1         0   \n",
              "4    14260            8            5         1145         2         1   \n",
              "\n",
              "   BedroomAbvGr  TotRmsAbvGrd  Fireplaces  GarageArea  AboveMedianPrice  \n",
              "0             3             8           0         548                 1  \n",
              "1             3             6           1         460                 1  \n",
              "2             3             6           1         608                 1  \n",
              "3             3             7           1         642                 0  \n",
              "4             4             9           1         836                 1  "
            ],
            "text/html": [
              "\n",
              "  <div id=\"df-fbd6186c-ed7c-4811-b1cb-37d96442f7ac\">\n",
              "    <div class=\"colab-df-container\">\n",
              "      <div>\n",
              "<style scoped>\n",
              "    .dataframe tbody tr th:only-of-type {\n",
              "        vertical-align: middle;\n",
              "    }\n",
              "\n",
              "    .dataframe tbody tr th {\n",
              "        vertical-align: top;\n",
              "    }\n",
              "\n",
              "    .dataframe thead th {\n",
              "        text-align: right;\n",
              "    }\n",
              "</style>\n",
              "<table border=\"1\" class=\"dataframe\">\n",
              "  <thead>\n",
              "    <tr style=\"text-align: right;\">\n",
              "      <th></th>\n",
              "      <th>LotArea</th>\n",
              "      <th>OverallQual</th>\n",
              "      <th>OverallCond</th>\n",
              "      <th>TotalBsmtSF</th>\n",
              "      <th>FullBath</th>\n",
              "      <th>HalfBath</th>\n",
              "      <th>BedroomAbvGr</th>\n",
              "      <th>TotRmsAbvGrd</th>\n",
              "      <th>Fireplaces</th>\n",
              "      <th>GarageArea</th>\n",
              "      <th>AboveMedianPrice</th>\n",
              "    </tr>\n",
              "  </thead>\n",
              "  <tbody>\n",
              "    <tr>\n",
              "      <th>0</th>\n",
              "      <td>8450</td>\n",
              "      <td>7</td>\n",
              "      <td>5</td>\n",
              "      <td>856</td>\n",
              "      <td>2</td>\n",
              "      <td>1</td>\n",
              "      <td>3</td>\n",
              "      <td>8</td>\n",
              "      <td>0</td>\n",
              "      <td>548</td>\n",
              "      <td>1</td>\n",
              "    </tr>\n",
              "    <tr>\n",
              "      <th>1</th>\n",
              "      <td>9600</td>\n",
              "      <td>6</td>\n",
              "      <td>8</td>\n",
              "      <td>1262</td>\n",
              "      <td>2</td>\n",
              "      <td>0</td>\n",
              "      <td>3</td>\n",
              "      <td>6</td>\n",
              "      <td>1</td>\n",
              "      <td>460</td>\n",
              "      <td>1</td>\n",
              "    </tr>\n",
              "    <tr>\n",
              "      <th>2</th>\n",
              "      <td>11250</td>\n",
              "      <td>7</td>\n",
              "      <td>5</td>\n",
              "      <td>920</td>\n",
              "      <td>2</td>\n",
              "      <td>1</td>\n",
              "      <td>3</td>\n",
              "      <td>6</td>\n",
              "      <td>1</td>\n",
              "      <td>608</td>\n",
              "      <td>1</td>\n",
              "    </tr>\n",
              "    <tr>\n",
              "      <th>3</th>\n",
              "      <td>9550</td>\n",
              "      <td>7</td>\n",
              "      <td>5</td>\n",
              "      <td>756</td>\n",
              "      <td>1</td>\n",
              "      <td>0</td>\n",
              "      <td>3</td>\n",
              "      <td>7</td>\n",
              "      <td>1</td>\n",
              "      <td>642</td>\n",
              "      <td>0</td>\n",
              "    </tr>\n",
              "    <tr>\n",
              "      <th>4</th>\n",
              "      <td>14260</td>\n",
              "      <td>8</td>\n",
              "      <td>5</td>\n",
              "      <td>1145</td>\n",
              "      <td>2</td>\n",
              "      <td>1</td>\n",
              "      <td>4</td>\n",
              "      <td>9</td>\n",
              "      <td>1</td>\n",
              "      <td>836</td>\n",
              "      <td>1</td>\n",
              "    </tr>\n",
              "  </tbody>\n",
              "</table>\n",
              "</div>\n",
              "      <button class=\"colab-df-convert\" onclick=\"convertToInteractive('df-fbd6186c-ed7c-4811-b1cb-37d96442f7ac')\"\n",
              "              title=\"Convert this dataframe to an interactive table.\"\n",
              "              style=\"display:none;\">\n",
              "        \n",
              "  <svg xmlns=\"http://www.w3.org/2000/svg\" height=\"24px\"viewBox=\"0 0 24 24\"\n",
              "       width=\"24px\">\n",
              "    <path d=\"M0 0h24v24H0V0z\" fill=\"none\"/>\n",
              "    <path d=\"M18.56 5.44l.94 2.06.94-2.06 2.06-.94-2.06-.94-.94-2.06-.94 2.06-2.06.94zm-11 1L8.5 8.5l.94-2.06 2.06-.94-2.06-.94L8.5 2.5l-.94 2.06-2.06.94zm10 10l.94 2.06.94-2.06 2.06-.94-2.06-.94-.94-2.06-.94 2.06-2.06.94z\"/><path d=\"M17.41 7.96l-1.37-1.37c-.4-.4-.92-.59-1.43-.59-.52 0-1.04.2-1.43.59L10.3 9.45l-7.72 7.72c-.78.78-.78 2.05 0 2.83L4 21.41c.39.39.9.59 1.41.59.51 0 1.02-.2 1.41-.59l7.78-7.78 2.81-2.81c.8-.78.8-2.07 0-2.86zM5.41 20L4 18.59l7.72-7.72 1.47 1.35L5.41 20z\"/>\n",
              "  </svg>\n",
              "      </button>\n",
              "      \n",
              "  <style>\n",
              "    .colab-df-container {\n",
              "      display:flex;\n",
              "      flex-wrap:wrap;\n",
              "      gap: 12px;\n",
              "    }\n",
              "\n",
              "    .colab-df-convert {\n",
              "      background-color: #E8F0FE;\n",
              "      border: none;\n",
              "      border-radius: 50%;\n",
              "      cursor: pointer;\n",
              "      display: none;\n",
              "      fill: #1967D2;\n",
              "      height: 32px;\n",
              "      padding: 0 0 0 0;\n",
              "      width: 32px;\n",
              "    }\n",
              "\n",
              "    .colab-df-convert:hover {\n",
              "      background-color: #E2EBFA;\n",
              "      box-shadow: 0px 1px 2px rgba(60, 64, 67, 0.3), 0px 1px 3px 1px rgba(60, 64, 67, 0.15);\n",
              "      fill: #174EA6;\n",
              "    }\n",
              "\n",
              "    [theme=dark] .colab-df-convert {\n",
              "      background-color: #3B4455;\n",
              "      fill: #D2E3FC;\n",
              "    }\n",
              "\n",
              "    [theme=dark] .colab-df-convert:hover {\n",
              "      background-color: #434B5C;\n",
              "      box-shadow: 0px 1px 3px 1px rgba(0, 0, 0, 0.15);\n",
              "      filter: drop-shadow(0px 1px 2px rgba(0, 0, 0, 0.3));\n",
              "      fill: #FFFFFF;\n",
              "    }\n",
              "  </style>\n",
              "\n",
              "      <script>\n",
              "        const buttonEl =\n",
              "          document.querySelector('#df-fbd6186c-ed7c-4811-b1cb-37d96442f7ac button.colab-df-convert');\n",
              "        buttonEl.style.display =\n",
              "          google.colab.kernel.accessAllowed ? 'block' : 'none';\n",
              "\n",
              "        async function convertToInteractive(key) {\n",
              "          const element = document.querySelector('#df-fbd6186c-ed7c-4811-b1cb-37d96442f7ac');\n",
              "          const dataTable =\n",
              "            await google.colab.kernel.invokeFunction('convertToInteractive',\n",
              "                                                     [key], {});\n",
              "          if (!dataTable) return;\n",
              "\n",
              "          const docLinkHtml = 'Like what you see? Visit the ' +\n",
              "            '<a target=\"_blank\" href=https://colab.research.google.com/notebooks/data_table.ipynb>data table notebook</a>'\n",
              "            + ' to learn more about interactive tables.';\n",
              "          element.innerHTML = '';\n",
              "          dataTable['output_type'] = 'display_data';\n",
              "          await google.colab.output.renderOutput(dataTable, element);\n",
              "          const docLink = document.createElement('div');\n",
              "          docLink.innerHTML = docLinkHtml;\n",
              "          element.appendChild(docLink);\n",
              "        }\n",
              "      </script>\n",
              "    </div>\n",
              "  </div>\n",
              "  "
            ]
          },
          "metadata": {},
          "execution_count": 2
        }
      ]
    },
    {
      "cell_type": "code",
      "source": [
        "x = df.iloc[:,0:10]\n",
        "y = df.iloc[:,10]"
      ],
      "metadata": {
        "id": "rpC0K-wJ6kzh"
      },
      "execution_count": 3,
      "outputs": []
    },
    {
      "cell_type": "code",
      "source": [
        "#scale the data because some are in thousands while rest are in single digits\n",
        "scaler = MinMaxScaler()\n",
        "x_scale = scaler.fit_transform(x)\n"
      ],
      "metadata": {
        "id": "5YV2K7k08DYo"
      },
      "execution_count": 20,
      "outputs": []
    },
    {
      "cell_type": "code",
      "source": [
        "from sklearn.model_selection import train_test_split\n",
        "x_train, x_test, y_train, y_test = train_test_split(x_scale, y, test_size=0.3, random_state=1)"
      ],
      "metadata": {
        "id": "sXENNlmuBp5P"
      },
      "execution_count": 5,
      "outputs": []
    },
    {
      "cell_type": "code",
      "source": [
        "#creating the ANN\n",
        "model = Sequential()\n",
        "#no of nodes in multiples of 10 (input size?)\n",
        "input_layer = Dense(20, input_shape=(10,))\n",
        "model.add(input_layer)"
      ],
      "metadata": {
        "id": "DGUjAqLECDg-"
      },
      "execution_count": 6,
      "outputs": []
    },
    {
      "cell_type": "code",
      "source": [
        "#hidden layers\n",
        "hidden_layer1 = Dense(20, activation='relu')\n",
        "hidden_layer2 = Dense(20, activation='relu')\n",
        "model.add(hidden_layer1)\n",
        "model.add(hidden_layer2)"
      ],
      "metadata": {
        "id": "X34lnrRXCc3J"
      },
      "execution_count": 7,
      "outputs": []
    },
    {
      "cell_type": "code",
      "source": [
        "#output layer\n",
        "output_layer = Dense(1, activation='sigmoid')\n",
        "model.add(output_layer)"
      ],
      "metadata": {
        "id": "23HilkzHDUsP"
      },
      "execution_count": 8,
      "outputs": []
    },
    {
      "cell_type": "code",
      "source": [
        "#compile model\n",
        "model.compile(loss='binary_crossentropy', optimizer='sgd', metrics=['accuracy'])"
      ],
      "metadata": {
        "id": "WOjNoxONDlw-"
      },
      "execution_count": 9,
      "outputs": []
    },
    {
      "cell_type": "code",
      "source": [
        "hist = model.fit(x_train, y_train, epochs=100, batch_size=20, validation_data = (x_test,y_test))"
      ],
      "metadata": {
        "colab": {
          "base_uri": "https://localhost:8080/"
        },
        "id": "PXCpKQPUD6DR",
        "outputId": "bf96f71c-e8d5-41a8-9497-7f96d0d982aa"
      },
      "execution_count": 10,
      "outputs": [
        {
          "output_type": "stream",
          "name": "stdout",
          "text": [
            "Epoch 1/100\n",
            "52/52 [==============================] - 1s 8ms/step - loss: 0.6922 - accuracy: 0.5372 - val_loss: 0.6784 - val_accuracy: 0.6621\n",
            "Epoch 2/100\n",
            "52/52 [==============================] - 0s 4ms/step - loss: 0.6769 - accuracy: 0.6546 - val_loss: 0.6677 - val_accuracy: 0.7443\n",
            "Epoch 3/100\n",
            "52/52 [==============================] - 0s 4ms/step - loss: 0.6670 - accuracy: 0.7104 - val_loss: 0.6574 - val_accuracy: 0.7831\n",
            "Epoch 4/100\n",
            "52/52 [==============================] - 0s 3ms/step - loss: 0.6572 - accuracy: 0.7417 - val_loss: 0.6464 - val_accuracy: 0.7808\n",
            "Epoch 5/100\n",
            "52/52 [==============================] - 0s 4ms/step - loss: 0.6454 - accuracy: 0.7505 - val_loss: 0.6321 - val_accuracy: 0.8174\n",
            "Epoch 6/100\n",
            "52/52 [==============================] - 0s 4ms/step - loss: 0.6303 - accuracy: 0.7798 - val_loss: 0.6141 - val_accuracy: 0.8242\n",
            "Epoch 7/100\n",
            "52/52 [==============================] - 0s 3ms/step - loss: 0.6122 - accuracy: 0.7926 - val_loss: 0.5954 - val_accuracy: 0.8219\n",
            "Epoch 8/100\n",
            "52/52 [==============================] - 0s 3ms/step - loss: 0.5929 - accuracy: 0.7906 - val_loss: 0.5740 - val_accuracy: 0.8219\n",
            "Epoch 9/100\n",
            "52/52 [==============================] - 0s 3ms/step - loss: 0.5714 - accuracy: 0.8033 - val_loss: 0.5483 - val_accuracy: 0.8402\n",
            "Epoch 10/100\n",
            "52/52 [==============================] - 0s 4ms/step - loss: 0.5493 - accuracy: 0.8160 - val_loss: 0.5250 - val_accuracy: 0.8333\n",
            "Epoch 11/100\n",
            "52/52 [==============================] - 0s 3ms/step - loss: 0.5261 - accuracy: 0.8180 - val_loss: 0.5032 - val_accuracy: 0.8402\n",
            "Epoch 12/100\n",
            "52/52 [==============================] - 0s 4ms/step - loss: 0.5029 - accuracy: 0.8180 - val_loss: 0.4756 - val_accuracy: 0.8470\n",
            "Epoch 13/100\n",
            "52/52 [==============================] - 0s 4ms/step - loss: 0.4801 - accuracy: 0.8268 - val_loss: 0.4547 - val_accuracy: 0.8493\n",
            "Epoch 14/100\n",
            "52/52 [==============================] - 0s 4ms/step - loss: 0.4601 - accuracy: 0.8337 - val_loss: 0.4275 - val_accuracy: 0.8379\n",
            "Epoch 15/100\n",
            "52/52 [==============================] - 0s 4ms/step - loss: 0.4390 - accuracy: 0.8278 - val_loss: 0.4040 - val_accuracy: 0.8562\n",
            "Epoch 16/100\n",
            "52/52 [==============================] - 0s 4ms/step - loss: 0.4215 - accuracy: 0.8395 - val_loss: 0.3993 - val_accuracy: 0.8470\n",
            "Epoch 17/100\n",
            "52/52 [==============================] - 0s 3ms/step - loss: 0.4063 - accuracy: 0.8444 - val_loss: 0.3737 - val_accuracy: 0.8653\n",
            "Epoch 18/100\n",
            "52/52 [==============================] - 0s 4ms/step - loss: 0.3900 - accuracy: 0.8434 - val_loss: 0.3713 - val_accuracy: 0.8584\n",
            "Epoch 19/100\n",
            "52/52 [==============================] - 0s 4ms/step - loss: 0.3809 - accuracy: 0.8434 - val_loss: 0.3562 - val_accuracy: 0.8470\n",
            "Epoch 20/100\n",
            "52/52 [==============================] - 0s 4ms/step - loss: 0.3706 - accuracy: 0.8464 - val_loss: 0.3345 - val_accuracy: 0.8630\n",
            "Epoch 21/100\n",
            "52/52 [==============================] - 0s 4ms/step - loss: 0.3615 - accuracy: 0.8493 - val_loss: 0.3563 - val_accuracy: 0.8562\n",
            "Epoch 22/100\n",
            "52/52 [==============================] - 0s 4ms/step - loss: 0.3561 - accuracy: 0.8532 - val_loss: 0.3191 - val_accuracy: 0.8676\n",
            "Epoch 23/100\n",
            "52/52 [==============================] - 0s 4ms/step - loss: 0.3484 - accuracy: 0.8474 - val_loss: 0.3165 - val_accuracy: 0.8721\n",
            "Epoch 24/100\n",
            "52/52 [==============================] - 0s 4ms/step - loss: 0.3417 - accuracy: 0.8542 - val_loss: 0.3046 - val_accuracy: 0.8790\n",
            "Epoch 25/100\n",
            "52/52 [==============================] - 0s 3ms/step - loss: 0.3352 - accuracy: 0.8562 - val_loss: 0.3185 - val_accuracy: 0.8630\n",
            "Epoch 26/100\n",
            "52/52 [==============================] - 0s 4ms/step - loss: 0.3324 - accuracy: 0.8542 - val_loss: 0.2947 - val_accuracy: 0.8699\n",
            "Epoch 27/100\n",
            "52/52 [==============================] - 0s 4ms/step - loss: 0.3266 - accuracy: 0.8650 - val_loss: 0.3065 - val_accuracy: 0.8653\n",
            "Epoch 28/100\n",
            "52/52 [==============================] - 0s 3ms/step - loss: 0.3238 - accuracy: 0.8630 - val_loss: 0.2879 - val_accuracy: 0.8676\n",
            "Epoch 29/100\n",
            "52/52 [==============================] - 0s 4ms/step - loss: 0.3201 - accuracy: 0.8640 - val_loss: 0.2825 - val_accuracy: 0.8881\n",
            "Epoch 30/100\n",
            "52/52 [==============================] - 0s 4ms/step - loss: 0.3165 - accuracy: 0.8669 - val_loss: 0.2803 - val_accuracy: 0.8858\n",
            "Epoch 31/100\n",
            "52/52 [==============================] - 0s 4ms/step - loss: 0.3137 - accuracy: 0.8718 - val_loss: 0.2894 - val_accuracy: 0.8721\n",
            "Epoch 32/100\n",
            "52/52 [==============================] - 0s 4ms/step - loss: 0.3102 - accuracy: 0.8650 - val_loss: 0.2754 - val_accuracy: 0.8995\n",
            "Epoch 33/100\n",
            "52/52 [==============================] - 0s 3ms/step - loss: 0.3079 - accuracy: 0.8728 - val_loss: 0.2726 - val_accuracy: 0.8904\n",
            "Epoch 34/100\n",
            "52/52 [==============================] - 0s 4ms/step - loss: 0.3062 - accuracy: 0.8738 - val_loss: 0.2789 - val_accuracy: 0.8721\n",
            "Epoch 35/100\n",
            "52/52 [==============================] - 0s 4ms/step - loss: 0.3029 - accuracy: 0.8728 - val_loss: 0.2712 - val_accuracy: 0.8950\n",
            "Epoch 36/100\n",
            "52/52 [==============================] - 0s 4ms/step - loss: 0.3010 - accuracy: 0.8748 - val_loss: 0.2788 - val_accuracy: 0.8836\n",
            "Epoch 37/100\n",
            "52/52 [==============================] - 0s 4ms/step - loss: 0.2983 - accuracy: 0.8777 - val_loss: 0.2896 - val_accuracy: 0.8767\n",
            "Epoch 38/100\n",
            "52/52 [==============================] - 0s 4ms/step - loss: 0.2995 - accuracy: 0.8718 - val_loss: 0.2645 - val_accuracy: 0.8904\n",
            "Epoch 39/100\n",
            "52/52 [==============================] - 0s 4ms/step - loss: 0.2950 - accuracy: 0.8728 - val_loss: 0.2597 - val_accuracy: 0.8973\n",
            "Epoch 40/100\n",
            "52/52 [==============================] - 0s 4ms/step - loss: 0.2923 - accuracy: 0.8757 - val_loss: 0.2569 - val_accuracy: 0.8995\n",
            "Epoch 41/100\n",
            "52/52 [==============================] - 0s 6ms/step - loss: 0.2910 - accuracy: 0.8836 - val_loss: 0.2604 - val_accuracy: 0.8950\n",
            "Epoch 42/100\n",
            "52/52 [==============================] - 0s 5ms/step - loss: 0.2897 - accuracy: 0.8816 - val_loss: 0.3051 - val_accuracy: 0.8584\n",
            "Epoch 43/100\n",
            "52/52 [==============================] - 0s 5ms/step - loss: 0.2893 - accuracy: 0.8757 - val_loss: 0.2526 - val_accuracy: 0.9018\n",
            "Epoch 44/100\n",
            "52/52 [==============================] - 0s 5ms/step - loss: 0.2870 - accuracy: 0.8816 - val_loss: 0.2535 - val_accuracy: 0.9018\n",
            "Epoch 45/100\n",
            "52/52 [==============================] - 0s 5ms/step - loss: 0.2861 - accuracy: 0.8796 - val_loss: 0.2520 - val_accuracy: 0.9041\n",
            "Epoch 46/100\n",
            "52/52 [==============================] - 0s 5ms/step - loss: 0.2859 - accuracy: 0.8767 - val_loss: 0.2506 - val_accuracy: 0.9018\n",
            "Epoch 47/100\n",
            "52/52 [==============================] - 0s 5ms/step - loss: 0.2830 - accuracy: 0.8816 - val_loss: 0.2578 - val_accuracy: 0.8858\n",
            "Epoch 48/100\n",
            "52/52 [==============================] - 0s 5ms/step - loss: 0.2833 - accuracy: 0.8816 - val_loss: 0.2511 - val_accuracy: 0.8995\n",
            "Epoch 49/100\n",
            "52/52 [==============================] - 0s 5ms/step - loss: 0.2837 - accuracy: 0.8826 - val_loss: 0.2514 - val_accuracy: 0.8995\n",
            "Epoch 50/100\n",
            "52/52 [==============================] - 0s 5ms/step - loss: 0.2806 - accuracy: 0.8816 - val_loss: 0.2482 - val_accuracy: 0.8950\n",
            "Epoch 51/100\n",
            "52/52 [==============================] - 0s 5ms/step - loss: 0.2783 - accuracy: 0.8845 - val_loss: 0.3184 - val_accuracy: 0.8653\n",
            "Epoch 52/100\n",
            "52/52 [==============================] - 0s 5ms/step - loss: 0.2823 - accuracy: 0.8777 - val_loss: 0.2471 - val_accuracy: 0.9018\n",
            "Epoch 53/100\n",
            "52/52 [==============================] - 0s 3ms/step - loss: 0.2781 - accuracy: 0.8836 - val_loss: 0.2500 - val_accuracy: 0.8927\n",
            "Epoch 54/100\n",
            "52/52 [==============================] - 0s 4ms/step - loss: 0.2765 - accuracy: 0.8865 - val_loss: 0.2527 - val_accuracy: 0.8836\n",
            "Epoch 55/100\n",
            "52/52 [==============================] - 0s 4ms/step - loss: 0.2768 - accuracy: 0.8885 - val_loss: 0.2417 - val_accuracy: 0.9018\n",
            "Epoch 56/100\n",
            "52/52 [==============================] - 0s 4ms/step - loss: 0.2745 - accuracy: 0.8845 - val_loss: 0.3182 - val_accuracy: 0.8630\n",
            "Epoch 57/100\n",
            "52/52 [==============================] - 0s 4ms/step - loss: 0.2781 - accuracy: 0.8826 - val_loss: 0.2406 - val_accuracy: 0.9018\n",
            "Epoch 58/100\n",
            "52/52 [==============================] - 0s 3ms/step - loss: 0.2742 - accuracy: 0.8855 - val_loss: 0.2410 - val_accuracy: 0.8995\n",
            "Epoch 59/100\n",
            "52/52 [==============================] - 0s 3ms/step - loss: 0.2769 - accuracy: 0.8885 - val_loss: 0.2452 - val_accuracy: 0.8904\n",
            "Epoch 60/100\n",
            "52/52 [==============================] - 0s 3ms/step - loss: 0.2721 - accuracy: 0.8875 - val_loss: 0.2592 - val_accuracy: 0.8721\n",
            "Epoch 61/100\n",
            "52/52 [==============================] - 0s 4ms/step - loss: 0.2719 - accuracy: 0.8894 - val_loss: 0.3159 - val_accuracy: 0.8562\n",
            "Epoch 62/100\n",
            "52/52 [==============================] - 0s 4ms/step - loss: 0.2736 - accuracy: 0.8826 - val_loss: 0.2379 - val_accuracy: 0.9064\n",
            "Epoch 63/100\n",
            "52/52 [==============================] - 0s 4ms/step - loss: 0.2720 - accuracy: 0.8885 - val_loss: 0.2375 - val_accuracy: 0.9064\n",
            "Epoch 64/100\n",
            "52/52 [==============================] - 0s 4ms/step - loss: 0.2716 - accuracy: 0.8875 - val_loss: 0.2371 - val_accuracy: 0.9041\n",
            "Epoch 65/100\n",
            "52/52 [==============================] - 0s 4ms/step - loss: 0.2702 - accuracy: 0.8865 - val_loss: 0.2601 - val_accuracy: 0.8927\n",
            "Epoch 66/100\n",
            "52/52 [==============================] - 0s 4ms/step - loss: 0.2677 - accuracy: 0.8914 - val_loss: 0.2509 - val_accuracy: 0.8813\n",
            "Epoch 67/100\n",
            "52/52 [==============================] - 0s 3ms/step - loss: 0.2669 - accuracy: 0.8816 - val_loss: 0.2405 - val_accuracy: 0.8950\n",
            "Epoch 68/100\n",
            "52/52 [==============================] - 0s 3ms/step - loss: 0.2664 - accuracy: 0.8855 - val_loss: 0.2402 - val_accuracy: 0.8995\n",
            "Epoch 69/100\n",
            "52/52 [==============================] - 0s 4ms/step - loss: 0.2675 - accuracy: 0.8845 - val_loss: 0.2878 - val_accuracy: 0.8721\n",
            "Epoch 70/100\n",
            "52/52 [==============================] - 0s 4ms/step - loss: 0.2708 - accuracy: 0.8885 - val_loss: 0.2338 - val_accuracy: 0.9041\n",
            "Epoch 71/100\n",
            "52/52 [==============================] - 0s 4ms/step - loss: 0.2641 - accuracy: 0.8924 - val_loss: 0.2479 - val_accuracy: 0.8904\n",
            "Epoch 72/100\n",
            "52/52 [==============================] - 0s 3ms/step - loss: 0.2650 - accuracy: 0.8885 - val_loss: 0.2339 - val_accuracy: 0.9041\n",
            "Epoch 73/100\n",
            "52/52 [==============================] - 0s 4ms/step - loss: 0.2644 - accuracy: 0.8914 - val_loss: 0.2397 - val_accuracy: 0.8950\n",
            "Epoch 74/100\n",
            "52/52 [==============================] - 0s 3ms/step - loss: 0.2659 - accuracy: 0.8924 - val_loss: 0.3031 - val_accuracy: 0.8721\n",
            "Epoch 75/100\n",
            "52/52 [==============================] - 0s 4ms/step - loss: 0.2716 - accuracy: 0.8826 - val_loss: 0.3451 - val_accuracy: 0.8584\n",
            "Epoch 76/100\n",
            "52/52 [==============================] - 0s 4ms/step - loss: 0.2700 - accuracy: 0.8875 - val_loss: 0.2390 - val_accuracy: 0.8973\n",
            "Epoch 77/100\n",
            "52/52 [==============================] - 0s 4ms/step - loss: 0.2663 - accuracy: 0.8914 - val_loss: 0.2339 - val_accuracy: 0.8995\n",
            "Epoch 78/100\n",
            "52/52 [==============================] - 0s 3ms/step - loss: 0.2641 - accuracy: 0.8845 - val_loss: 0.2395 - val_accuracy: 0.8927\n",
            "Epoch 79/100\n",
            "52/52 [==============================] - 0s 4ms/step - loss: 0.2635 - accuracy: 0.8894 - val_loss: 0.2354 - val_accuracy: 0.8973\n",
            "Epoch 80/100\n",
            "52/52 [==============================] - 0s 4ms/step - loss: 0.2618 - accuracy: 0.8885 - val_loss: 0.2312 - val_accuracy: 0.8995\n",
            "Epoch 81/100\n",
            "52/52 [==============================] - 0s 4ms/step - loss: 0.2643 - accuracy: 0.8885 - val_loss: 0.2313 - val_accuracy: 0.9064\n",
            "Epoch 82/100\n",
            "52/52 [==============================] - 0s 4ms/step - loss: 0.2623 - accuracy: 0.8836 - val_loss: 0.2307 - val_accuracy: 0.9018\n",
            "Epoch 83/100\n",
            "52/52 [==============================] - 0s 4ms/step - loss: 0.2648 - accuracy: 0.8914 - val_loss: 0.2315 - val_accuracy: 0.9041\n",
            "Epoch 84/100\n",
            "52/52 [==============================] - 0s 4ms/step - loss: 0.2642 - accuracy: 0.8875 - val_loss: 0.2293 - val_accuracy: 0.9041\n",
            "Epoch 85/100\n",
            "52/52 [==============================] - 0s 4ms/step - loss: 0.2610 - accuracy: 0.8865 - val_loss: 0.2307 - val_accuracy: 0.9041\n",
            "Epoch 86/100\n",
            "52/52 [==============================] - 0s 4ms/step - loss: 0.2621 - accuracy: 0.8924 - val_loss: 0.2628 - val_accuracy: 0.8836\n",
            "Epoch 87/100\n",
            "52/52 [==============================] - 0s 4ms/step - loss: 0.2620 - accuracy: 0.8914 - val_loss: 0.2310 - val_accuracy: 0.8995\n",
            "Epoch 88/100\n",
            "52/52 [==============================] - 0s 4ms/step - loss: 0.2621 - accuracy: 0.8894 - val_loss: 0.2311 - val_accuracy: 0.8995\n",
            "Epoch 89/100\n",
            "52/52 [==============================] - 0s 3ms/step - loss: 0.2611 - accuracy: 0.8924 - val_loss: 0.3286 - val_accuracy: 0.8470\n",
            "Epoch 90/100\n",
            "52/52 [==============================] - 0s 4ms/step - loss: 0.2624 - accuracy: 0.8924 - val_loss: 0.2480 - val_accuracy: 0.8881\n",
            "Epoch 91/100\n",
            "52/52 [==============================] - 0s 3ms/step - loss: 0.2609 - accuracy: 0.8943 - val_loss: 0.2281 - val_accuracy: 0.9041\n",
            "Epoch 92/100\n",
            "52/52 [==============================] - 0s 3ms/step - loss: 0.2604 - accuracy: 0.8904 - val_loss: 0.2351 - val_accuracy: 0.8927\n",
            "Epoch 93/100\n",
            "52/52 [==============================] - 0s 4ms/step - loss: 0.2632 - accuracy: 0.8914 - val_loss: 0.2290 - val_accuracy: 0.9018\n",
            "Epoch 94/100\n",
            "52/52 [==============================] - 0s 4ms/step - loss: 0.2598 - accuracy: 0.8885 - val_loss: 0.2934 - val_accuracy: 0.8744\n",
            "Epoch 95/100\n",
            "52/52 [==============================] - 0s 4ms/step - loss: 0.2632 - accuracy: 0.8963 - val_loss: 0.2285 - val_accuracy: 0.9018\n",
            "Epoch 96/100\n",
            "52/52 [==============================] - 0s 4ms/step - loss: 0.2618 - accuracy: 0.8826 - val_loss: 0.2306 - val_accuracy: 0.8973\n",
            "Epoch 97/100\n",
            "52/52 [==============================] - 0s 4ms/step - loss: 0.2606 - accuracy: 0.8933 - val_loss: 0.2303 - val_accuracy: 0.8973\n",
            "Epoch 98/100\n",
            "52/52 [==============================] - 0s 3ms/step - loss: 0.2616 - accuracy: 0.8885 - val_loss: 0.2924 - val_accuracy: 0.8767\n",
            "Epoch 99/100\n",
            "52/52 [==============================] - 0s 4ms/step - loss: 0.2659 - accuracy: 0.8904 - val_loss: 0.2359 - val_accuracy: 0.8927\n",
            "Epoch 100/100\n",
            "52/52 [==============================] - 0s 4ms/step - loss: 0.2607 - accuracy: 0.8885 - val_loss: 0.2278 - val_accuracy: 0.9041\n"
          ]
        }
      ]
    },
    {
      "cell_type": "code",
      "source": [
        "val_loss, val_acc = model.evaluate(x_test, y_test)\n",
        "print(val_loss, val_acc)"
      ],
      "metadata": {
        "colab": {
          "base_uri": "https://localhost:8080/"
        },
        "id": "a9dKaQAqFMp0",
        "outputId": "c8024029-58f2-45ab-ee16-c01a570c8783"
      },
      "execution_count": 11,
      "outputs": [
        {
          "output_type": "stream",
          "name": "stdout",
          "text": [
            "14/14 [==============================] - 0s 4ms/step - loss: 0.2278 - accuracy: 0.9041\n",
            "0.22781507670879364 0.9041095972061157\n"
          ]
        }
      ]
    },
    {
      "cell_type": "code",
      "source": [
        "#pred\n",
        "lst = [[12420, 7, 4, 2000, 3, 4, 1, 8, 2, 750]]\n",
        "scaled_data = scaler.transform(lst)\n",
        "result = model.predict(scaled_data)\n",
        "result"
      ],
      "metadata": {
        "colab": {
          "base_uri": "https://localhost:8080/"
        },
        "id": "HSoGwGAhGmLh",
        "outputId": "e688ad35-c9bc-4b43-e487-255cb7faa067"
      },
      "execution_count": 21,
      "outputs": [
        {
          "output_type": "stream",
          "name": "stdout",
          "text": [
            "1/1 [==============================] - 0s 23ms/step\n"
          ]
        },
        {
          "output_type": "stream",
          "name": "stderr",
          "text": [
            "/usr/local/lib/python3.9/dist-packages/sklearn/base.py:439: UserWarning: X does not have valid feature names, but MinMaxScaler was fitted with feature names\n",
            "  warnings.warn(\n"
          ]
        },
        {
          "output_type": "execute_result",
          "data": {
            "text/plain": [
              "array([[0.9970408]], dtype=float32)"
            ]
          },
          "metadata": {},
          "execution_count": 21
        }
      ]
    },
    {
      "cell_type": "code",
      "source": [
        "#visualize how accuracy varies with each epoch\n",
        "import matplotlib.pyplot as plt\n",
        "plt.plot(hist.history['accuracy'])\n",
        "plt.plot(hist.history['val_accuracy'])\n",
        "plt.title('Model Accuracy')\n",
        "plt.xlabel('Accuracy')\n",
        "plt.ylabel('Epoch')\n",
        "plt.legend(['train','test'], loc='lower right')\n",
        "plt.show()"
      ],
      "metadata": {
        "colab": {
          "base_uri": "https://localhost:8080/",
          "height": 295
        },
        "id": "eNNYQ-4ENehz",
        "outputId": "cf97c753-bc11-49f2-cf44-05855d2135a4"
      },
      "execution_count": 13,
      "outputs": [
        {
          "output_type": "display_data",
          "data": {
            "text/plain": [
              "<Figure size 432x288 with 1 Axes>"
            ],
            "image/png": "[encoded data removed]"
          },
          "metadata": {
            "needs_background": "light"
          }
        }
      ]
    },
    {
      "cell_type": "code",
      "source": [
        "#visualize how loss varies with each epoch\n",
        "plt.plot(hist.history['loss'])\n",
        "plt.plot(hist.history['val_loss'])\n",
        "plt.title('Model Loss')\n",
        "plt.xlabel('Loss')\n",
        "plt.ylabel('Epoch')\n",
        "plt.legend(['train','test'], loc='upper right')\n",
        "plt.show()"
      ],
      "metadata": {
        "colab": {
          "base_uri": "https://localhost:8080/",
          "height": 295
        },
        "id": "n_XYxSzaQfWG",
        "outputId": "2da35ad5-ac48-488f-dbe0-3731e6f3a3af"
      },
      "execution_count": 14,
      "outputs": [
        {
          "output_type": "display_data",
          "data": {
            "text/plain": [
              "<Figure size 432x288 with 1 Axes>"
            ],
            "image/png": "[encoded data removed]"
          },
          "metadata": {
            "needs_background": "light"
          }
        }
      ]
    }
  ]
}